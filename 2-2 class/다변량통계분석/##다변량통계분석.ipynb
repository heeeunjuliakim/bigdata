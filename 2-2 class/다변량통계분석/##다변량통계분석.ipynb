{
 "cells": [
  {
   "cell_type": "markdown",
   "metadata": {},
   "source": [
    "# 다변량 데이터의 시각화"
   ]
  },
  {
   "cell_type": "markdown",
   "metadata": {},
   "source": [
    "- 단변량 변수\n",
    " - 양적변수 : 히스토그램 hist(x), 상자그림 boxplot(x)\n",
    " - 범주형 변수 : 막대그래프, 파이차트\n",
    " \n",
    "- 2~3개 변수 사이의 관계\n",
    " - 양적 vs 양적 : 산점도, 산점도행렬, 버블차트, 분포 시각화\n",
    " - 범주 vs 범주 : mosaic plot\n",
    " - 양적 vs 범수 : 상자그림들\n",
    " \n",
    "- 다변량 변수 시각화\n",
    " - 별그림, 나이팅게일차트, heatmap 등 ...?"
   ]
  },
  {
   "cell_type": "markdown",
   "metadata": {},
   "source": [
    "# 산점도 그리기(양적변수 1,2의 분포도)\n",
    "- plot(종속변수 ~ 설명변수, data명)\n",
    "- plot(popul~manu, USairpollution) 혹은\n",
    "- plot(USairpollutionj$$manu, USairpollution$popul)\n",
    "- \n",
    "- x, y축 명칭 생성하기\n",
    ": plot(popul~manu, USairpollution,\n",
    "     xlab=\"Manufactureing enterprising with 20 or more workers\",\n",
    "     ylab=\"Population size\")"
   ]
  },
  {
   "cell_type": "markdown",
   "metadata": {},
   "source": [
    "# 산점도 행렬\n",
    "- library(psych)\n",
    "- pairs.pannels(USairpollution) : 45도 오른쪽상단부분이 상관계수\n",
    "- 산점도를 통해 이상치 발견 및 추측 가능"
   ]
  },
  {
   "cell_type": "markdown",
   "metadata": {},
   "source": [
    "# 상관계수\n",
    "- corr.test(data명) → 상관계수, p-value값 확인 가능\n",
    "- corr.test(USairpollution)"
   ]
  },
  {
   "cell_type": "markdown",
   "metadata": {},
   "source": [
    "# 산점도 내에서 이상치 값의 명칭 찾기 : identify\n",
    "- identify(data명&변수명, data명&변수명, lables=명시하고 싶은 값)\n",
    "- identify(USairpollution$$manu, USairpollution$popul, labels=rownames(USairpollution))\n",
    "- \n",
    "\n",
    " - 이상치를 제외한 후 산점도 행렬을 그려 비교\n",
    "- outcity <- match(c(\"Chicago\",\"Detroit\",\"Houston\", \"Philadelphia\"),rownames(USairpollution))   \n",
    "- USairpollution[outcity,]\n",
    "- pairs.panels(USairpollution[-outcity,])      #이상치 제외 후 "
   ]
  },
  {
   "cell_type": "markdown",
   "metadata": {},
   "source": [
    "# 버블차트(양적변수1,2 + 양적변수3의 관계)\n",
    "- with(data 명, symbols(변수1, 변수2, circles=변수3, inches=0.5크기)  #변수의 크기를 줄이기 위해 sqrt를 사용하기도 함\n",
    "- with(USairpollution, symbols(temp, wind, circles=sqrt(SO2), inches=0.5))\n",
    "\n",
    "- 두개의 변수를 사용한 산점도에 <세번째> 변수의 값을 함께 표현\n",
    "- 예시: 기온과 바람과 SO2의 관계"
   ]
  },
  {
   "cell_type": "markdown",
   "metadata": {},
   "source": [
    "# 모자이크 차트 Mosaic plot(범주형 변수 1,2의 관계 표현)\n",
    "- mosaicplot(~Dept+Gender, data=UCBAdmissions, color=T)"
   ]
  },
  {
   "cell_type": "markdown",
   "metadata": {},
   "source": [
    "# 상자그림(양적+범주형 변수)\n",
    "- boxplot(변수1~변수2, data명)"
   ]
  },
  {
   "cell_type": "markdown",
   "metadata": {
    "collapsed": true
   },
   "source": [
    "# 나이팅게일 차트\n",
    " - "
   ]
  },
  {
   "cell_type": "code",
   "execution_count": null,
   "metadata": {
    "collapsed": true
   },
   "outputs": [],
   "source": []
  },
  {
   "cell_type": "code",
   "execution_count": null,
   "metadata": {
    "collapsed": true
   },
   "outputs": [],
   "source": []
  },
  {
   "cell_type": "code",
   "execution_count": null,
   "metadata": {
    "collapsed": true
   },
   "outputs": [],
   "source": []
  },
  {
   "cell_type": "code",
   "execution_count": null,
   "metadata": {
    "collapsed": true
   },
   "outputs": [],
   "source": []
  }
 ],
 "metadata": {
  "anaconda-cloud": {},
  "kernelspec": {
   "display_name": "Python [py35]",
   "language": "python",
   "name": "Python [py35]"
  },
  "language_info": {
   "codemirror_mode": {
    "name": "ipython",
    "version": 3
   },
   "file_extension": ".py",
   "mimetype": "text/x-python",
   "name": "python",
   "nbconvert_exporter": "python",
   "pygments_lexer": "ipython3",
   "version": "3.5.2"
  }
 },
 "nbformat": 4,
 "nbformat_minor": 0
}
