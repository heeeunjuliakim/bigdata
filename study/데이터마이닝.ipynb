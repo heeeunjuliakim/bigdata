{
 "cells": [
  {
   "cell_type": "markdown",
   "metadata": {},
   "source": [
    " # 데이터마이닝\n",
    "-  1) 분류분석\n",
    "-  2) 군집분석\n",
    "-  3) 연관예측"
   ]
  },
  {
   "cell_type": "markdown",
   "metadata": {},
   "source": [
    " - 데이터마이닝\n",
    "- 대량의 데이터로부터 새롭고 의미있는 정보를 추출 -> 의사결정에 활용\n",
    "- 기업의 경영활동에서 발생하는 대용량 데이터에서 데이터 간의 관계, 패턴, 규칙등을 찾아내고 모형화해 유용한 경영정보로 변환시키는 과정"
   ]
  },
  {
   "cell_type": "markdown",
   "metadata": {},
   "source": [
    "- 전통적 통계분석\n",
    " - 모집단 有\n",
    " - 표본의 \"가정\"하에 전체 모수 추론 \n",
    "\n",
    "- 데이터마이닝\n",
    " - 데이터로부터 모형을 찾음.\n",
    " - 데이터 전체가 모집단 전체일 수록 좋음."
   ]
  },
  {
   "cell_type": "markdown",
   "metadata": {},
   "source": [
    "- SQL : 현황자료 추출 <리포팅의 목적>\n",
    "- OLAP : SQL보다는 더 편하게, 엑셀의 피벗 기능처럼, 간단하게 데이터 추출가능 <리포팅의 목적>\n",
    "- Data Mining : 뽑아논 데이터로부터 <예측>"
   ]
  },
  {
   "cell_type": "markdown",
   "metadata": {},
   "source": [
    "# 데이터마이닝 software\n",
    " - SAS : 검증이 안되기 때문에, 신속하게 알고리즘을 업그레이드 시킬 수 없음.\n",
    " - IBM SPSS : 동일\n",
    " - R : 오픈소스기 때문에 재빠르게 수정, 복사, 배포가 가능\n",
    " - python : 동일"
   ]
  },
  {
   "cell_type": "markdown",
   "metadata": {},
   "source": [
    "- 데이터마이닝 프로세스\n",
    " 1. 비지니스 이해\n",
    " 2. 데이터 이해\n",
    " 3. 데이터 준비 : 문제에 맞는 데이터를 다루기 위해 내가 어떤 데이터를 어떻게 활용할지, 전처리 과정 필요\n",
    " 4. 모델링 Modeling : 여러가지 \n",
    " 5. 평가 : 여러가지 모델 중에, 비지니스 문제 해결을 위한 최적의 모델 평가\n",
    " 6. 전개 : 현업에 적용. ex. CRM 어떤 고객에게 DM을 보낼 것인가?"
   ]
  },
  {
   "cell_type": "markdown",
   "metadata": {},
   "source": [
    " - 예측 모델링 프로세스\n",
    "- 원천 데이터 : DW → 추출 → 탐색 → 정제 → 파생 → 모델링 마트\n",
    "- 모델링 마트 : 모델링 마트 → 분할 → 학습 → 평가 → 최종 모델 선택  // 여기까지 과거 DATA\n",
    "- 예측 output: 예측 → !!! ex. 이탈 확률 80% 이상 고객을 뽑아라"
   ]
  },
  {
   "cell_type": "markdown",
   "metadata": {},
   "source": [
    " 1. 지도학습 \n",
    "- 추정값이 연속형 \n",
    "- 추정값이 이산형 \n",
    " 2. 비지도학습\n",
    "- 군집화\n",
    "- 연관규칙탐사 : 카트에 A와 B를 사면 C를 산다. ex.냉장고 산 사람에게 에어컨 추천\n",
    "- 연속규칙탐사 : 연관규칙 + 시간. A를 하면 \"한 달 뒤에\" B를 산다."
   ]
  },
  {
   "cell_type": "markdown",
   "metadata": {},
   "source": [
    "- 분류 :\n",
    "- 군집화 : 데이터의 속성을 보고, 거리가 가까운 속성끼리 묶음\n",
    "- 데이터 분할 Data Partitioning : 데이터를 용도에 따라 학습용(모델 적합)/검증용(모델 평가) 으로 나눔\n",
    "                                 ex. x-fold cross validation\n"
   ]
  },
  {
   "cell_type": "markdown",
   "metadata": {},
   "source": [
    "- Business Understanding (02 PPT 26P) 예제\n",
    " - 샘플링을 통해 학습"
   ]
  },
  {
   "cell_type": "code",
   "execution_count": null,
   "metadata": {
    "collapsed": true
   },
   "outputs": [],
   "source": []
  },
  {
   "cell_type": "code",
   "execution_count": null,
   "metadata": {
    "collapsed": true
   },
   "outputs": [],
   "source": []
  }
 ],
 "metadata": {
  "kernelspec": {
   "display_name": "Python [py35]",
   "language": "python",
   "name": "Python [py35]"
  },
  "language_info": {
   "codemirror_mode": {
    "name": "ipython",
    "version": 3
   },
   "file_extension": ".py",
   "mimetype": "text/x-python",
   "name": "python",
   "nbconvert_exporter": "python",
   "pygments_lexer": "ipython3",
   "version": "3.5.2"
  }
 },
 "nbformat": 4,
 "nbformat_minor": 0
}
