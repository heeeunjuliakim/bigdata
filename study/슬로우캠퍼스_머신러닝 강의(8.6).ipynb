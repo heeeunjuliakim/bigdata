{
 "cells": [
  {
   "cell_type": "markdown",
   "metadata": {},
   "source": [
    "# 데이터마이닝\n",
    " - 바로 알아내기 힘든 분석, 쌓여있는 데이터를 기반으로 분석\n",
    " - 장바구니 분석, 추천, CRM, 고객분류 분석 등"
   ]
  },
  {
   "cell_type": "markdown",
   "metadata": {},
   "source": [
    "# 패턴인식\n",
    " - 데이터에서 어떠한 규칙적인 패턴을 찾아내기 위한 기술\n",
    " - 데이터 분석 기술과 비슷한 레벨"
   ]
  },
  {
   "cell_type": "markdown",
   "metadata": {},
   "source": [
    "# ★머신러닝\n",
    " - 통계적분석+컴퓨팅 --> 모델링 (input(X) - output(Y) f(X)관계 찾기)\n",
    " - 모델링 - 학습 과정 원리 (실제값 X와 \"예측한 output Y값의 오차를 점진적으로 줄여나가는 것\")\n",
    " - domain knowledge + machine learning 통합적 접근 필요\n",
    " \n",
    "  1)정답이 있는 학습분야 : regression(X, Y의 관계), clasification 분류(필기체 인식, 고양이&강아지 사진 분류)   \n",
    "  2)정답이 없는 비학습 분야 : clustering 군집화(유사한 것 끼리 그룹핑) \n",
    "  \n",
    "\n",
    "- 머신러닝 적용 단계 :\n",
    " - 실제 세계 → 측정 장치 → 전처리[정규화 등] → 차원 축소[특징 선택] → 인식&예측[분류, 회귀, 클러스터링 등] → 모델 선택 → 분석 결과\n",
    "\n",
    "\n",
    " - 수학적 접근 : 입력, 출력 관계 명확. 함수관계로 명확하게 표현됨.\n",
    " - 머신러닝 : 확률적, 입력변화에 따른 출력 변화에 대한 예측이 어려움.\n",
    "\n",
    "\n",
    " - 알고리즘 : 컴퓨터에게 작업을 어떻게 해야하는지 컴퓨터가 이해할 수 있도록 step by step 설명.\n",
    " - 머신러닝 : 데이터를 분석하는 프로그램을 직접 개발 및 활용"
   ]
  },
  {
   "cell_type": "markdown",
   "metadata": {},
   "source": [
    "# 얼마나 generalization 일반화를 잘 하느냐가 관건!\n",
    "\n",
    "- training data 와 test data 를 통해 머신러닝 모델링을 테스트. (예. kaggle contest)\n",
    "- training에서 700개의 데이터 사용, test에서 300개 데이터 사용 → training 오차가 더 중요\n",
    "- 오차함수 = 0 → over fitting 되어, 실제세계에서 맞지 않을 확률이 높음.\n",
    "\n",
    "- False positive 긍정오류 / False Negative 부정오류"
   ]
  },
  {
   "cell_type": "markdown",
   "metadata": {},
   "source": [
    "# Artifical Neuron Network \n",
    "- 뉴런 모델과 동일한 방식"
   ]
  },
  {
   "cell_type": "markdown",
   "metadata": {},
   "source": [
    "# Reinforcement Learning\n",
    "- 나의 action이 다음 action에 영향을 미침\n",
    "- 이세돌의 이번 수에 따라서 알파고의 다음 수가 바뀜\n",
    "- action → reward를 최대화하기 위한 다음 action을 만들어냄.\n",
    " - (Obseervation(Ot) + Reward(Rt) → Agent State(St) → Action (At) → Environmental State(St))"
   ]
  },
  {
   "cell_type": "markdown",
   "metadata": {},
   "source": [
    "# 딥러닝\n",
    "- 인공지능 <- 머신러닝 <- 딥러닝\n"
   ]
  },
  {
   "cell_type": "code",
   "execution_count": null,
   "metadata": {
    "collapsed": true
   },
   "outputs": [],
   "source": []
  },
  {
   "cell_type": "code",
   "execution_count": null,
   "metadata": {
    "collapsed": true
   },
   "outputs": [],
   "source": []
  },
  {
   "cell_type": "code",
   "execution_count": null,
   "metadata": {
    "collapsed": true
   },
   "outputs": [],
   "source": []
  }
 ],
 "metadata": {
  "anaconda-cloud": {},
  "kernelspec": {
   "display_name": "Python [py35]",
   "language": "python",
   "name": "Python [py35]"
  },
  "language_info": {
   "codemirror_mode": {
    "name": "ipython",
    "version": 3
   },
   "file_extension": ".py",
   "mimetype": "text/x-python",
   "name": "python",
   "nbconvert_exporter": "python",
   "pygments_lexer": "ipython3",
   "version": "3.5.2"
  }
 },
 "nbformat": 4,
 "nbformat_minor": 0
}
