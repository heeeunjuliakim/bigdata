{
 "cells": [
  {
   "cell_type": "markdown",
   "metadata": {},
   "source": [
    "#빅데이터 활용 사례"
   ]
  },
  {
   "cell_type": "markdown",
   "metadata": {
    "collapsed": true
   },
   "source": [
    "# Hadoop Ecosystem(4주차)"
   ]
  },
  {
   "cell_type": "markdown",
   "metadata": {
    "collapsed": true
   },
   "source": [
    "빅데이터의 핵심기술은? \"Hadoop\""
   ]
  },
  {
   "cell_type": "markdown",
   "metadata": {
    "collapsed": true
   },
   "source": [
    "- 페이스북에서'Hive' 개발하면서 하둡 더욱 성장\n",
    "- 하둡은 data warehouse 임이 명확화 됨.\n",
    "- HDFS와 MapReduce는 DW를 위해 개발됨."
   ]
  },
  {
   "cell_type": "markdown",
   "metadata": {
    "collapsed": true
   },
   "source": [
    "- 배치성(Batch)(하둡 1.0) : 일을 그냥 던져주는 것. \n",
    "- 대화형(interactive) (상호X) : 그 자리에서 (조금 걸리지만) 바로 처리 가능한 것.\n",
    "- 실시간(Real-time) : 그 자리에서 바로바로 처리."
   ]
  },
  {
   "cell_type": "markdown",
   "metadata": {
    "collapsed": true
   },
   "source": [
    "# HDFS(하둡 분산 파일시스템)\n",
    "- 하나의 computer가 아닌, N개의 machine 에서 처리\n",
    "- computer:사용자, client\n",
    "- machine:surver, 서비스로 work, job 일을 함."
   ]
  },
  {
   "cell_type": "markdown",
   "metadata": {
    "collapsed": true
   },
   "source": [
    "- HDFS 시스템 프로세스\n",
    " - 등장인물\n",
    "- Client(컴퓨터)\n",
    "- 네임 노트\n",
    "- N대의 머신(하둡 클러스터)\n",
    "- 데이터 노드"
   ]
  },
  {
   "cell_type": "code",
   "execution_count": null,
   "metadata": {
    "collapsed": true
   },
   "outputs": [],
   "source": []
  },
  {
   "cell_type": "code",
   "execution_count": null,
   "metadata": {
    "collapsed": true
   },
   "outputs": [],
   "source": []
  },
  {
   "cell_type": "code",
   "execution_count": null,
   "metadata": {
    "collapsed": true
   },
   "outputs": [],
   "source": []
  },
  {
   "cell_type": "code",
   "execution_count": null,
   "metadata": {
    "collapsed": true
   },
   "outputs": [],
   "source": []
  }
 ],
 "metadata": {
  "anaconda-cloud": {},
  "kernelspec": {
   "display_name": "Python [py35]",
   "language": "python",
   "name": "Python [py35]"
  },
  "language_info": {
   "codemirror_mode": {
    "name": "ipython",
    "version": 3
   },
   "file_extension": ".py",
   "mimetype": "text/x-python",
   "name": "python",
   "nbconvert_exporter": "python",
   "pygments_lexer": "ipython3",
   "version": "3.5.2"
  }
 },
 "nbformat": 4,
 "nbformat_minor": 0
}
